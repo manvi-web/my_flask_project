{
 "cells": [
  {
   "cell_type": "code",
   "execution_count": 1,
   "id": "43e77279-9705-4a85-9a6a-897d31f1b54f",
   "metadata": {},
   "outputs": [],
   "source": [
    "mkdir templates\n"
   ]
  },
  {
   "cell_type": "code",
   "execution_count": null,
   "id": "c8a68a1d-7c7b-4257-bfe0-112fb2d7172b",
   "metadata": {},
   "outputs": [],
   "source": []
  }
 ],
 "metadata": {
  "kernelspec": {
   "display_name": "Python 3 (ipykernel)",
   "language": "python",
   "name": "python3"
  },
  "language_info": {
   "codemirror_mode": {
    "name": "ipython",
    "version": 3
   },
   "file_extension": ".py",
   "mimetype": "text/x-python",
   "name": "python",
   "nbconvert_exporter": "python",
   "pygments_lexer": "ipython3",
   "version": "3.8.10"
  }
 },
 "nbformat": 4,
 "nbformat_minor": 5
}
