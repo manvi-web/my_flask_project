{
 "cells": [
  {
   "cell_type": "code",
   "execution_count": 1,
   "id": "e014d46b-1440-4e5f-9788-82bfea077400",
   "metadata": {},
   "outputs": [
    {
     "name": "stdout",
     "output_type": "stream",
     "text": [
      "Starting Flask API with Waitress on port 10000...\n"
     ]
    },
    {
     "ename": "OSError",
     "evalue": "[Errno 98] Address already in use",
     "output_type": "error",
     "traceback": [
      "\u001b[0;31m---------------------------------------------------------------------------\u001b[0m",
      "\u001b[0;31mOSError\u001b[0m                                   Traceback (most recent call last)",
      "Cell \u001b[0;32mIn[1], line 29\u001b[0m\n\u001b[1;32m     27\u001b[0m port \u001b[38;5;241m=\u001b[39m \u001b[38;5;28mint\u001b[39m(os\u001b[38;5;241m.\u001b[39menviron\u001b[38;5;241m.\u001b[39mget(\u001b[38;5;124m\"\u001b[39m\u001b[38;5;124mPORT\u001b[39m\u001b[38;5;124m\"\u001b[39m, \u001b[38;5;241m10000\u001b[39m)) \n\u001b[1;32m     28\u001b[0m \u001b[38;5;28mprint\u001b[39m(\u001b[38;5;124mf\u001b[39m\u001b[38;5;124m\"\u001b[39m\u001b[38;5;124mStarting Flask API with Waitress on port \u001b[39m\u001b[38;5;132;01m{\u001b[39;00mport\u001b[38;5;132;01m}\u001b[39;00m\u001b[38;5;124m...\u001b[39m\u001b[38;5;124m\"\u001b[39m)\n\u001b[0;32m---> 29\u001b[0m \u001b[43mserve\u001b[49m\u001b[43m(\u001b[49m\u001b[43mapp\u001b[49m\u001b[43m,\u001b[49m\u001b[43m \u001b[49m\u001b[43mhost\u001b[49m\u001b[38;5;241;43m=\u001b[39;49m\u001b[38;5;124;43m\"\u001b[39;49m\u001b[38;5;124;43m0.0.0.0\u001b[39;49m\u001b[38;5;124;43m\"\u001b[39;49m\u001b[43m,\u001b[49m\u001b[43m \u001b[49m\u001b[43mport\u001b[49m\u001b[38;5;241;43m=\u001b[39;49m\u001b[43mport\u001b[49m\u001b[43m)\u001b[49m\n",
      "File \u001b[0;32m~/.local/lib/python3.8/site-packages/waitress/__init__.py:13\u001b[0m, in \u001b[0;36mserve\u001b[0;34m(app, **kw)\u001b[0m\n\u001b[1;32m     10\u001b[0m \u001b[38;5;28;01mif\u001b[39;00m \u001b[38;5;129;01mnot\u001b[39;00m _quiet:  \u001b[38;5;66;03m# pragma: no cover\u001b[39;00m\n\u001b[1;32m     11\u001b[0m     \u001b[38;5;66;03m# idempotent if logging has already been set up\u001b[39;00m\n\u001b[1;32m     12\u001b[0m     logging\u001b[38;5;241m.\u001b[39mbasicConfig()\n\u001b[0;32m---> 13\u001b[0m server \u001b[38;5;241m=\u001b[39m \u001b[43m_server\u001b[49m\u001b[43m(\u001b[49m\u001b[43mapp\u001b[49m\u001b[43m,\u001b[49m\u001b[43m \u001b[49m\u001b[38;5;241;43m*\u001b[39;49m\u001b[38;5;241;43m*\u001b[39;49m\u001b[43mkw\u001b[49m\u001b[43m)\u001b[49m\n\u001b[1;32m     14\u001b[0m \u001b[38;5;28;01mif\u001b[39;00m \u001b[38;5;129;01mnot\u001b[39;00m _quiet:  \u001b[38;5;66;03m# pragma: no cover\u001b[39;00m\n\u001b[1;32m     15\u001b[0m     server\u001b[38;5;241m.\u001b[39mprint_listen(\u001b[38;5;124m\"\u001b[39m\u001b[38;5;124mServing on http://\u001b[39m\u001b[38;5;132;01m{}\u001b[39;00m\u001b[38;5;124m:\u001b[39m\u001b[38;5;132;01m{}\u001b[39;00m\u001b[38;5;124m\"\u001b[39m)\n",
      "File \u001b[0;32m~/.local/lib/python3.8/site-packages/waitress/server.py:78\u001b[0m, in \u001b[0;36mcreate_server\u001b[0;34m(application, map, _start, _sock, _dispatcher, **kw)\u001b[0m\n\u001b[1;32m     73\u001b[0m \u001b[38;5;28;01mif\u001b[39;00m \u001b[38;5;129;01mnot\u001b[39;00m adj\u001b[38;5;241m.\u001b[39msockets:\n\u001b[1;32m     74\u001b[0m     \u001b[38;5;28;01mfor\u001b[39;00m sockinfo \u001b[38;5;129;01min\u001b[39;00m adj\u001b[38;5;241m.\u001b[39mlisten:\n\u001b[1;32m     75\u001b[0m         \u001b[38;5;66;03m# When TcpWSGIServer is called, it registers itself in the map. This\u001b[39;00m\n\u001b[1;32m     76\u001b[0m         \u001b[38;5;66;03m# side-effect is all we need it for, so we don't store a reference to\u001b[39;00m\n\u001b[1;32m     77\u001b[0m         \u001b[38;5;66;03m# or return it to the user.\u001b[39;00m\n\u001b[0;32m---> 78\u001b[0m         last_serv \u001b[38;5;241m=\u001b[39m \u001b[43mTcpWSGIServer\u001b[49m\u001b[43m(\u001b[49m\n\u001b[1;32m     79\u001b[0m \u001b[43m            \u001b[49m\u001b[43mapplication\u001b[49m\u001b[43m,\u001b[49m\n\u001b[1;32m     80\u001b[0m \u001b[43m            \u001b[49m\u001b[38;5;28;43mmap\u001b[39;49m\u001b[43m,\u001b[49m\n\u001b[1;32m     81\u001b[0m \u001b[43m            \u001b[49m\u001b[43m_start\u001b[49m\u001b[43m,\u001b[49m\n\u001b[1;32m     82\u001b[0m \u001b[43m            \u001b[49m\u001b[43m_sock\u001b[49m\u001b[43m,\u001b[49m\n\u001b[1;32m     83\u001b[0m \u001b[43m            \u001b[49m\u001b[43mdispatcher\u001b[49m\u001b[38;5;241;43m=\u001b[39;49m\u001b[43mdispatcher\u001b[49m\u001b[43m,\u001b[49m\n\u001b[1;32m     84\u001b[0m \u001b[43m            \u001b[49m\u001b[43madj\u001b[49m\u001b[38;5;241;43m=\u001b[39;49m\u001b[43madj\u001b[49m\u001b[43m,\u001b[49m\n\u001b[1;32m     85\u001b[0m \u001b[43m            \u001b[49m\u001b[43msockinfo\u001b[49m\u001b[38;5;241;43m=\u001b[39;49m\u001b[43msockinfo\u001b[49m\u001b[43m,\u001b[49m\n\u001b[1;32m     86\u001b[0m \u001b[43m        \u001b[49m\u001b[43m)\u001b[49m\n\u001b[1;32m     87\u001b[0m         effective_listen\u001b[38;5;241m.\u001b[39mappend(\n\u001b[1;32m     88\u001b[0m             (last_serv\u001b[38;5;241m.\u001b[39meffective_host, last_serv\u001b[38;5;241m.\u001b[39meffective_port)\n\u001b[1;32m     89\u001b[0m         )\n\u001b[1;32m     91\u001b[0m \u001b[38;5;28;01mfor\u001b[39;00m sock \u001b[38;5;129;01min\u001b[39;00m adj\u001b[38;5;241m.\u001b[39msockets:\n",
      "File \u001b[0;32m~/.local/lib/python3.8/site-packages/waitress/server.py:243\u001b[0m, in \u001b[0;36mBaseWSGIServer.__init__\u001b[0;34m(self, application, map, _start, _sock, dispatcher, adj, sockinfo, bind_socket, **kw)\u001b[0m\n\u001b[1;32m    240\u001b[0m \u001b[38;5;28mself\u001b[39m\u001b[38;5;241m.\u001b[39mset_reuse_addr()\n\u001b[1;32m    242\u001b[0m \u001b[38;5;28;01mif\u001b[39;00m bind_socket:\n\u001b[0;32m--> 243\u001b[0m     \u001b[38;5;28;43mself\u001b[39;49m\u001b[38;5;241;43m.\u001b[39;49m\u001b[43mbind_server_socket\u001b[49m\u001b[43m(\u001b[49m\u001b[43m)\u001b[49m\n\u001b[1;32m    245\u001b[0m \u001b[38;5;28mself\u001b[39m\u001b[38;5;241m.\u001b[39meffective_host, \u001b[38;5;28mself\u001b[39m\u001b[38;5;241m.\u001b[39meffective_port \u001b[38;5;241m=\u001b[39m \u001b[38;5;28mself\u001b[39m\u001b[38;5;241m.\u001b[39mgetsockname()\n\u001b[1;32m    246\u001b[0m \u001b[38;5;28mself\u001b[39m\u001b[38;5;241m.\u001b[39mserver_name \u001b[38;5;241m=\u001b[39m adj\u001b[38;5;241m.\u001b[39mserver_name\n",
      "File \u001b[0;32m~/.local/lib/python3.8/site-packages/waitress/server.py:364\u001b[0m, in \u001b[0;36mTcpWSGIServer.bind_server_socket\u001b[0;34m(self)\u001b[0m\n\u001b[1;32m    362\u001b[0m \u001b[38;5;28;01mdef\u001b[39;00m\u001b[38;5;250m \u001b[39m\u001b[38;5;21mbind_server_socket\u001b[39m(\u001b[38;5;28mself\u001b[39m):\n\u001b[1;32m    363\u001b[0m     (_, _, _, sockaddr) \u001b[38;5;241m=\u001b[39m \u001b[38;5;28mself\u001b[39m\u001b[38;5;241m.\u001b[39msockinfo\n\u001b[0;32m--> 364\u001b[0m     \u001b[38;5;28;43mself\u001b[39;49m\u001b[38;5;241;43m.\u001b[39;49m\u001b[43mbind\u001b[49m\u001b[43m(\u001b[49m\u001b[43msockaddr\u001b[49m\u001b[43m)\u001b[49m\n",
      "File \u001b[0;32m~/.local/lib/python3.8/site-packages/waitress/wasyncore.py:395\u001b[0m, in \u001b[0;36mdispatcher.bind\u001b[0;34m(self, addr)\u001b[0m\n\u001b[1;32m    393\u001b[0m \u001b[38;5;28;01mdef\u001b[39;00m\u001b[38;5;250m \u001b[39m\u001b[38;5;21mbind\u001b[39m(\u001b[38;5;28mself\u001b[39m, addr):\n\u001b[1;32m    394\u001b[0m     \u001b[38;5;28mself\u001b[39m\u001b[38;5;241m.\u001b[39maddr \u001b[38;5;241m=\u001b[39m addr\n\u001b[0;32m--> 395\u001b[0m     \u001b[38;5;28;01mreturn\u001b[39;00m \u001b[38;5;28;43mself\u001b[39;49m\u001b[38;5;241;43m.\u001b[39;49m\u001b[43msocket\u001b[49m\u001b[38;5;241;43m.\u001b[39;49m\u001b[43mbind\u001b[49m\u001b[43m(\u001b[49m\u001b[43maddr\u001b[49m\u001b[43m)\u001b[49m\n",
      "\u001b[0;31mOSError\u001b[0m: [Errno 98] Address already in use"
     ]
    }
   ],
   "source": [
    "from flask import Flask, request, jsonify\n",
    "import pandas as pd\n",
    "from waitress import serve\n",
    "import os\n",
    "app = Flask(__name__)\n",
    "data = pd.read_csv(\"fields.csv\")\n",
    "@app.route(\"/\")\n",
    "def home():\n",
    "    return \"Welcome to the Form Fields API!\"\n",
    "@app.route(\"/get_fields\", methods=[\"POST\"])\n",
    "def get_fields():\n",
    "    try:\n",
    "        form_name = request.json[\"form_name\"]\n",
    "        filtered_data = data[data[\"Form Name\"] == form_name]\n",
    "\n",
    "        fields = [{\"Field Name\": row[\"Field Name\"], \"Field Type\": row[\"Field Type\"]}\n",
    "                  for _, row in filtered_data.iterrows()]\n",
    "        \n",
    "        if not fields:\n",
    "            return jsonify({\"error\": \"Form not found\"}), 404\n",
    "\n",
    "        return jsonify(fields)\n",
    "\n",
    "    except Exception as e:\n",
    "        return jsonify({\"error\": str(e)}), 500\n",
    "if __name__ == \"__main__\":\n",
    "    port = int(os.environ.get(\"PORT\", 10000)) \n",
    "    print(f\"Starting Flask API with Waitress on port {port}...\")\n",
    "    serve(app, host=\"0.0.0.0\", port=port)\n"
   ]
  },
  {
   "cell_type": "code",
   "execution_count": 1,
   "id": "fb26300d-139b-4182-91cd-6357377fc1a4",
   "metadata": {},
   "outputs": [
    {
     "ename": "SyntaxError",
     "evalue": "illegal target for annotation (3221505045.py, line 1)",
     "output_type": "error",
     "traceback": [
      "\u001b[0;36m  Cell \u001b[0;32mIn[1], line 1\u001b[0;36m\u001b[0m\n\u001b[0;31m    lsof -i :10000\u001b[0m\n\u001b[0m    ^\u001b[0m\n\u001b[0;31mSyntaxError\u001b[0m\u001b[0;31m:\u001b[0m illegal target for annotation\n"
     ]
    }
   ],
   "source": [
    "lsof -i :10000\n"
   ]
  },
  {
   "cell_type": "code",
   "execution_count": 2,
   "id": "a6dca7e7-2f0b-4b9c-8c67-0b52e392d8a4",
   "metadata": {},
   "outputs": [
    {
     "name": "stdout",
     "output_type": "stream",
     "text": [
      "lsof: unacceptable port specification in: -i :\n",
      "lsof 4.93.2\n",
      " latest revision: https://github.com/lsof-org/lsof\n",
      " latest FAQ: https://github.com/lsof-org/lsof/blob/master/00FAQ\n",
      " latest (non-formatted) man page: https://github.com/lsof-org/lsof/blob/master/Lsof.8\n",
      " usage: [-?abhKlnNoOPRtUvVX] [+|-c c] [+|-d s] [+D D] [+|-E] [+|-e s] [+|-f[gG]]\n",
      " [-F [f]] [-g [s]] [-i [i]] [+|-L [l]] [+m [m]] [+|-M] [-o [o]] [-p s]\n",
      " [+|-r [t]] [-s [p:s]] [-S [t]] [-T [t]] [-u s] [+|-w] [-x [fl]] [--] [names]\n",
      "Use the ``-h'' option to get more help information.\n"
     ]
    }
   ],
   "source": [
    "!lsof -i : 10000"
   ]
  },
  {
   "cell_type": "code",
   "execution_count": null,
   "id": "ee0627c0-df34-4949-a0b5-7c993835e07e",
   "metadata": {},
   "outputs": [],
   "source": []
  }
 ],
 "metadata": {
  "kernelspec": {
   "display_name": "Python 3 (ipykernel)",
   "language": "python",
   "name": "python3"
  },
  "language_info": {
   "codemirror_mode": {
    "name": "ipython",
    "version": 3
   },
   "file_extension": ".py",
   "mimetype": "text/x-python",
   "name": "python",
   "nbconvert_exporter": "python",
   "pygments_lexer": "ipython3",
   "version": "3.8.10"
  }
 },
 "nbformat": 4,
 "nbformat_minor": 5
}
