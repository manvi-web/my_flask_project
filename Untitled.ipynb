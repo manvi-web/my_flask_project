{
 "cells": [
  {
   "cell_type": "code",
   "execution_count": null,
   "id": "2a30ddc2-1bda-404b-9ee3-a976258c855b",
   "metadata": {},
   "outputs": [
    {
     "name": "stdout",
     "output_type": "stream",
     "text": [
      "Starting Flask API with Waitress on port 10000...\n"
     ]
    }
   ],
   "source": [
    "from flask import Flask, request, jsonify\n",
    "import pandas as pd\n",
    "from waitress import serve\n",
    "import os\n",
    "app = Flask(__name__)\n",
    "data = pd.read_csv(\"fields.csv\")\n",
    "@app.route(\"/\")\n",
    "def home():\n",
    "    return \"Welcome to the Form Fields API!\"\n",
    "@app.route(\"/get_fields\", methods=[\"POST\"])\n",
    "def get_fields():\n",
    "    try:\n",
    "        form_name = request.json[\"form_name\"]\n",
    "        filtered_data = data[data[\"Form Name\"] == form_name]\n",
    "\n",
    "        fields = [{\"Field Name\": row[\"Field Name\"], \"Field Type\": row[\"Field Type\"]}\n",
    "                  for _, row in filtered_data.iterrows()]\n",
    "        \n",
    "        if not fields:\n",
    "            return jsonify({\"error\": \"Form not found\"}), 404\n",
    "\n",
    "        return jsonify(fields)\n",
    "\n",
    "    except Exception as e:\n",
    "        return jsonify({\"error\": str(e)}), 500\n",
    "if __name__ == \"__main__\":\n",
    "    port = int(os.environ.get(\"PORT\", 10000)) \n",
    "    print(f\"Starting Flask API with Waitress on port {port}...\")\n",
    "    serve(app, host=\"0.0.0.0\", port=port)\n"
   ]
  },
  {
   "cell_type": "code",
   "execution_count": null,
   "id": "9c0e2b5b-084a-466c-accd-f0a9c0ab28ff",
   "metadata": {},
   "outputs": [],
   "source": []
  }
 ],
 "metadata": {
  "kernelspec": {
   "display_name": "Python 3 (ipykernel)",
   "language": "python",
   "name": "python3"
  },
  "language_info": {
   "codemirror_mode": {
    "name": "ipython",
    "version": 3
   },
   "file_extension": ".py",
   "mimetype": "text/x-python",
   "name": "python",
   "nbconvert_exporter": "python",
   "pygments_lexer": "ipython3",
   "version": "3.8.10"
  }
 },
 "nbformat": 4,
 "nbformat_minor": 5
}
